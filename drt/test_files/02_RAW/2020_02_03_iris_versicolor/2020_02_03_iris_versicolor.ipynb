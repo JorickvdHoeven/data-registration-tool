{
 "cells": [
  {
   "cell_type": "code",
   "execution_count": null,
   "metadata": {},
   "outputs": [],
   "source": [
    "import pandas as pd \n",
    "from pathlib import Path\n",
    "from pandas_profiling import ProfileReport\n",
    "source=Path('../../01_Delivery/2020_01_11_dump/data/dump/02_data/data2/2019_01_19_iris.parquet')"
   ]
  },
  {
   "cell_type": "code",
   "execution_count": null,
   "metadata": {},
   "outputs": [],
   "source": [
    "df = pd.read_parquet(source)"
   ]
  },
  {
   "cell_type": "code",
   "execution_count": null,
   "metadata": {},
   "outputs": [
    {
     "name": "stderr",
     "output_type": "stream",
     "text": [
      "Summarize dataset: 100%|██████████| 20/20 [00:04<00:00,  4.23it/s, Completed]\n",
      "Generate report structure: 100%|██████████| 1/1 [00:02<00:00,  2.36s/it]\n",
      "Render HTML: 100%|██████████| 1/1 [00:00<00:00,  2.10it/s]\n",
      "Export report to file: 100%|██████████| 1/1 [00:00<00:00, 277.55it/s]\n"
     ]
    }
   ],
   "source": [
    "ProfileReport(df).to_file('2020_02_03_iris_versicolor.html')"
   ]
  },
  {
   "cell_type": "code",
   "execution_count": null,
   "metadata": {},
   "outputs": [],
   "source": [
    "df.to_parquet('2020_02_03_iris_versicolor.parquet')"
   ]
  },
  {
   "cell_type": "code",
   "execution_count": null,
   "metadata": {},
   "outputs": [],
   "source": []
  }
 ],
 "metadata": {
  "kernelspec": {
   "display_name": "Python 3.7.9 64-bit ('data_analysis': conda)",
   "metadata": {
    "interpreter": {
     "hash": "e347088851c16ba49aad270d7143ef1b85c120cf9f92bc3fbaa811003f56311c"
    }
   },
   "name": "python3"
  }
 },
 "nbformat": 4,
 "nbformat_minor": 2
}
