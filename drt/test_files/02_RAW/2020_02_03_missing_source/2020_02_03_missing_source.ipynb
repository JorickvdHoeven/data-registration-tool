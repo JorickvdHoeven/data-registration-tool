{
 "cells": [
  {
   "cell_type": "code",
   "execution_count": null,
   "metadata": {},
   "outputs": [],
   "source": [
    "import pandas as pd\n",
    "from pathlib import Path\n",
    "from pandas_profiling import ProfileReport\n",
    "source = '../../01_Delivery/2020_01_12_missing_source/data/data.csv'"
   ]
  },
  {
   "cell_type": "code",
   "execution_count": null,
   "metadata": {},
   "outputs": [],
   "source": [
    "dat = {'id':[], 'year':[], 'title':[]}\n",
    "with open(source, 'rt', encoding = \"ISO-8859-1\") as fil:\n",
    "    for line in fil.readlines():\n",
    "        lin = line.split(',',2)\n",
    "        dat['id'].append(lin[0])\n",
    "        dat['year'].append(lin[1])\n",
    "        dat['title'].append(lin[2][:-1])\n",
    "\n",
    "df = pd.DataFrame(dat).convert_dtypes()"
   ]
  },
  {
   "cell_type": "code",
   "execution_count": null,
   "metadata": {},
   "outputs": [
    {
     "name": "stderr",
     "output_type": "stream",
     "text": [
      "Summarize dataset: 100%|██████████| 17/17 [00:00<00:00, 21.48it/s, Completed]\n",
      "Generate report structure: 100%|██████████| 1/1 [00:01<00:00,  1.07s/it]\n",
      "Render HTML: 100%|██████████| 1/1 [00:00<00:00,  5.65it/s]\n",
      "Export report to file: 100%|██████████| 1/1 [00:00<00:00, 1492.63it/s]\n"
     ]
    }
   ],
   "source": [
    "ProfileReport(df).to_file('2020_02_03_missing_source.html')"
   ]
  },
  {
   "cell_type": "code",
   "execution_count": null,
   "metadata": {},
   "outputs": [],
   "source": [
    "df.to_parquet('2020_02_03_missing_source.parquet')"
   ]
  },
  {
   "cell_type": "code",
   "execution_count": null,
   "metadata": {},
   "outputs": [],
   "source": []
  }
 ],
 "metadata": {
  "kernelspec": {
   "display_name": "Python 3.7.9 64-bit ('data_analysis': conda)",
   "metadata": {
    "interpreter": {
     "hash": "e347088851c16ba49aad270d7143ef1b85c120cf9f92bc3fbaa811003f56311c"
    }
   },
   "name": "python3"
  }
 },
 "nbformat": 4,
 "nbformat_minor": 2
}
