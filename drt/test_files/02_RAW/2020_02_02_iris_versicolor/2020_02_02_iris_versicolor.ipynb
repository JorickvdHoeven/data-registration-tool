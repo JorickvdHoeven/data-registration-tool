{
 "cells": [
  {
   "cell_type": "code",
   "execution_count": null,
   "metadata": {},
   "outputs": [],
   "source": [
    "import pandas as pd\n",
    "from pathlib import Path\n",
    "source = Path('../../01_Delivery/2020_01_10_csv/data/iris.csv')\n",
    "from pandas_profiling import ProfileReport"
   ]
  },
  {
   "cell_type": "code",
   "execution_count": null,
   "metadata": {},
   "outputs": [],
   "source": [
    "df = pd.read_csv(source).convert_dtypes()"
   ]
  },
  {
   "cell_type": "code",
   "execution_count": null,
   "metadata": {},
   "outputs": [
    {
     "name": "stderr",
     "output_type": "stream",
     "text": [
      "Summarize dataset: 100%|██████████| 19/19 [00:04<00:00,  4.20it/s, Completed]\n",
      "Generate report structure: 100%|██████████| 1/1 [00:01<00:00,  1.96s/it]\n",
      "Render HTML: 100%|██████████| 1/1 [00:00<00:00,  2.21it/s]\n",
      "Export report to file: 100%|██████████| 1/1 [00:00<00:00, 268.73it/s]\n"
     ]
    }
   ],
   "source": [
    "ProfileReport(df).to_file('2020_02_02_iris_versicolor.html')"
   ]
  },
  {
   "cell_type": "code",
   "execution_count": null,
   "metadata": {},
   "outputs": [],
   "source": [
    "df.to_parquet('2020_02_02_iris_versicolor.parquet')"
   ]
  },
  {
   "cell_type": "code",
   "execution_count": null,
   "metadata": {},
   "outputs": [],
   "source": []
  }
 ],
 "metadata": {
  "kernelspec": {
   "display_name": "Python 3.7.9 64-bit ('data_analysis': conda)",
   "metadata": {
    "interpreter": {
     "hash": "e347088851c16ba49aad270d7143ef1b85c120cf9f92bc3fbaa811003f56311c"
    }
   },
   "name": "python3"
  }
 },
 "nbformat": 4,
 "nbformat_minor": 2
}
