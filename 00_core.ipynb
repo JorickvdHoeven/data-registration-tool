{
 "cells": [
  {
   "cell_type": "code",
   "execution_count": null,
   "metadata": {
    "hide_input": true
   },
   "outputs": [],
   "source": [
    "from nbdev import *"
   ]
  },
  {
   "cell_type": "code",
   "execution_count": null,
   "metadata": {},
   "outputs": [],
   "source": [
    "#default_exp core"
   ]
  },
  {
   "cell_type": "code",
   "execution_count": null,
   "metadata": {},
   "outputs": [],
   "source": [
    "%load_ext autoreload\n",
    "%autoreload 2"
   ]
  },
  {
   "cell_type": "markdown",
   "metadata": {},
   "source": [
    "# drt\n",
    "\n",
    "> Tool "
   ]
  },
  {
   "cell_type": "code",
   "execution_count": null,
   "metadata": {},
   "outputs": [],
   "source": [
    "#hide\n",
    "from nbdev.showdoc import *\n",
    "from drt.create_environment import *\n",
    "from drt.environment import DataIntakeEnv\n",
    "from drt.registration import register_all\n",
    "from drt.verification import check_datagroup\n",
    "import drt.data_model as dm\n",
    "from pathlib import Path\n",
    "import shutil\n",
    "import drt\n",
    "try:\n",
    "    import importlib.resources as pkg_resources\n",
    "except ImportError:\n",
    "    # Try backported to PY<37 `importlib_resources`.\n",
    "    import importlib_resources as pkg_resources"
   ]
  },
  {
   "cell_type": "code",
   "execution_count": null,
   "metadata": {},
   "outputs": [],
   "source": [
    "def create_test_folder(test_path:Path):\n",
    "    \"\"\"\n",
    "    Create a folder in a location with dummy data ready to be registered\n",
    "    \"\"\"\n",
    "    if test_path.exists() and test_path.is_dir():\n",
    "        shutil.rmtree(test_path)\n",
    "    create_environment(test_path)\n",
    "    with pkg_resources.path(drt, 'test_files') as test:\n",
    "        shutil.copytree((test/'01_Delivery'), (test_path / '01_Delivery'),dirs_exist_ok=True)\n",
    "        shutil.copytree((test/'02_RAW'), (test_path / '02_RAW'),dirs_exist_ok=True)\n",
    "        shutil.copytree((test/'03_Datasets'), (test_path / '03_Datasets'),dirs_exist_ok=True)\n"
   ]
  },
  {
   "cell_type": "code",
   "execution_count": null,
   "metadata": {},
   "outputs": [],
   "source": [
    "test_path = Path('test_env')\n",
    "create_test_folder(test_path)"
   ]
  },
  {
   "cell_type": "code",
   "execution_count": null,
   "metadata": {},
   "outputs": [
    {
     "name": "stderr",
     "output_type": "stream",
     "text": [
      "  0%|          | 0/3 [00:00<?, ?files/s]"
     ]
    },
    {
     "name": "stdout",
     "output_type": "stream",
     "text": [
      "[!] test_env/01_Delivery/2020_01_13_no structure not processed, empty or non-existent\n"
     ]
    },
    {
     "name": "stderr",
     "output_type": "stream",
     "text": [
      "                                        \n"
     ]
    }
   ],
   "source": [
    "\n",
    "env = DataIntakeEnv(test_path / '.config' / 'config.ini')\n",
    "register_all(env)"
   ]
  },
  {
   "cell_type": "code",
   "execution_count": null,
   "metadata": {},
   "outputs": [
    {
     "name": "stderr",
     "output_type": "stream",
     "text": [
      "  0%|          | 0/7 [00:00<?, ?data group/s]\n",
      "  0%|          | 0/1 [00:00<?, ?files/s]\u001b[A\n",
      "                                        \u001b[A\n",
      "  0%|          | 0/4 [00:00<?, ?files/s]\u001b[A\n",
      "                                        \u001b[A\n",
      "  0%|          | 0/1 [00:00<?, ?files/s]\u001b[A\n",
      "                                        \u001b[A\n",
      "  0%|          | 0/1 [00:00<?, ?files/s]\u001b[A\n",
      "                                        \u001b[A\n",
      "  0%|          | 0/6 [00:00<?, ?files/s]\u001b[A\n",
      "                                        \u001b[A\n",
      "  0%|          | 0/1 [00:00<?, ?files/s]\u001b[A\n",
      "  0%|          | 0/9 [00:00<?, ?data group/s]\n",
      "  0%|          | 0/2 [00:00<?, ?files/s]\u001b[A\n",
      "                                        \u001b[A\n",
      "  0%|          | 0/3 [00:00<?, ?files/s]\u001b[A\n",
      "                                        \u001b[A\n",
      "  0%|          | 0/3 [00:00<?, ?files/s]\u001b[A\n",
      "                                        \u001b[A\n",
      "  0%|          | 0/3 [00:00<?, ?files/s]\u001b[A\n",
      "                                        \u001b[A\n",
      "  0%|          | 0/8 [00:00<?, ?files/s]\u001b[A\n",
      "                                        \u001b[A\n",
      "  0%|          | 0/3 [00:00<?, ?files/s]\u001b[A\n",
      "                                        \u001b[A\n",
      "  0%|          | 0/3 [00:00<?, ?files/s]\u001b[A\n",
      "                                        \u001b[A\n",
      "  0%|          | 0/3 [00:00<?, ?files/s]\u001b[A\n",
      "                                        \u001b[A\n",
      "  0%|          | 0/3 [00:00<?, ?files/s]\u001b[A\n",
      "  0%|          | 0/4 [00:00<?, ?data group/s]        \n",
      "  0%|          | 0/3 [00:00<?, ?files/s]\u001b[A\n",
      "                                        \u001b[A\n",
      "  0%|          | 0/3 [00:00<?, ?files/s]\u001b[A\n",
      "                                        \u001b[A\n",
      "  0%|          | 0/3 [00:00<?, ?files/s]\u001b[A\n",
      "                                             "
     ]
    },
    {
     "name": "stdout",
     "output_type": "stream",
     "text": [
      "[DLV] Registered data missing files or empty folder at test_env/01_Delivery/2020_01_13_no structure\n",
      "[DLV] 2020_01_10_iris_csv missing description\n",
      "[DLV] 2020_01_10_iris_csv missing source\n",
      "[DLV] 2020_01_10_iris_csv missing delivery date\n",
      "[DLV] 2020_01_11_dump missing description\n",
      "[DLV] 2020_01_11_dump missing source\n",
      "[DLV] 2020_01_11_dump missing delivery date\n",
      "[DLV] No Data registered for: 2020_01_13_no structure\n",
      "[DLV] 2020_01_09_near_earth_json missing description\n",
      "[DLV] 2020_01_09_near_earth_json missing source\n",
      "[DLV] 2020_01_09_near_earth_json missing delivery date\n",
      "[DLV] 2020_01_12_missing_source missing description\n",
      "[DLV] 2020_01_12_missing_source missing source\n",
      "[DLV] 2020_01_12_missing_source missing delivery date\n",
      "[DLV] 2020_01_08_video_files missing description\n",
      "[DLV] 2020_01_08_video_files missing source\n",
      "[DLV] 2020_01_08_video_files missing delivery date\n",
      "[DLV] 2020_01_10_measurements_excel missing description\n",
      "[DLV] 2020_01_10_measurements_excel missing source\n",
      "[DLV] 2020_01_10_measurements_excel missing delivery date\n",
      "[RAW] No Data registered for: In_Progress_2020_01_13_no structure\n",
      "[RAW] 2020_02_03_iris_versicolor missing description\n",
      "[RAW] 2020_02_03_iris_versicolor missing statistics report\n",
      "[RAW] 2020_02_02_iris_versicolor missing description\n",
      "[RAW] 2020_02_02_iris_versicolor missing statistics report\n",
      "[RAW] 2020_02_03_missing_source missing description\n",
      "[RAW] 2020_02_03_missing_source missing statistics report\n",
      "[RAW] 2020_02_01_rick_roll_videos missing description\n",
      "[RAW] 2020_02_01_rick_roll_videos missing statistics report\n",
      "[RAW] 2020_02_02_metal_measurements missing description\n",
      "[RAW] 2020_02_02_metal_measurements missing statistics report\n",
      "[RAW] 2020_02_01_near_earth_objects missing description\n",
      "[RAW] 2020_02_01_near_earth_objects missing statistics report\n",
      "[RAW] 2020_02_03_netflix_titles missing description\n",
      "[RAW] 2020_02_03_netflix_titles missing statistics report\n",
      "[RAW] 2020_02_02_temperature_mass_measurements missing description\n",
      "[RAW] 2020_02_02_temperature_mass_measurements missing statistics report\n",
      "[DAT] Registered data missing files or empty folder at test_env/03_Datasets/In_Progress_2020_02_04_rick_rolling\n"
     ]
    },
    {
     "name": "stderr",
     "output_type": "stream",
     "text": [
      "\n"
     ]
    },
    {
     "name": "stdout",
     "output_type": "stream",
     "text": [
      "[DAT] 2020_02_04_iris_versicolor missing description\n",
      "[DAT] 2020_02_04_iris_versicolor missing dataset data sheet\n",
      "[DAT] No Data registered for: In_Progress_2020_02_04_rick_rolling\n",
      "[DAT] 2020_02_04_movie_titles missing description\n",
      "[DAT] 2020_02_04_movie_titles missing dataset data sheet\n",
      "[DAT] 2020_02_04_asteroid_metal_mass missing description\n",
      "[DAT] 2020_02_04_asteroid_metal_mass missing dataset data sheet\n"
     ]
    }
   ],
   "source": [
    "[check_datagroup(env, group_type, light=False) for group_type in [dm.Delivery, dm.Raw_Data, dm.Dataset]]\n",
    "\n",
    "shutil.rmtree(test_path)"
   ]
  },
  {
   "cell_type": "code",
   "execution_count": null,
   "metadata": {},
   "outputs": [
    {
     "name": "stdout",
     "output_type": "stream",
     "text": [
      "Converted 00_core.ipynb.\n",
      "Converted 01_cli.ipynb.\n",
      "Converted 02_create_environment.ipynb.\n",
      "Converted 03_data_model.ipynb.\n",
      "Converted 04_environment.ipynb.\n",
      "Converted 05_receipt.ipynb.\n",
      "Converted 06_registration.ipynb.\n",
      "Converted 07_verification.ipynb.\n",
      "Converted 99_utils.ipynb.\n",
      "Converted index.ipynb.\n"
     ]
    }
   ],
   "source": [
    "#hide\n",
    "from nbdev.export import notebook2script; notebook2script()"
   ]
  },
  {
   "cell_type": "code",
   "execution_count": null,
   "metadata": {},
   "outputs": [],
   "source": []
  }
 ],
 "metadata": {
  "kernelspec": {
   "display_name": "drt",
   "language": "python",
   "name": "drt"
  }
 },
 "nbformat": 4,
 "nbformat_minor": 4
}
