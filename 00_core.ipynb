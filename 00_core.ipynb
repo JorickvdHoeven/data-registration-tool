{
 "cells": [
  {
   "cell_type": "code",
   "execution_count": null,
   "metadata": {
    "hide_input": true
   },
   "outputs": [],
   "source": [
    "from nbdev import *"
   ]
  },
  {
   "cell_type": "code",
   "execution_count": null,
   "metadata": {},
   "outputs": [],
   "source": [
    "#default_exp core"
   ]
  },
  {
   "cell_type": "code",
   "execution_count": null,
   "metadata": {},
   "outputs": [],
   "source": [
    "%load_ext autoreload\n",
    "%autoreload 2"
   ]
  },
  {
   "cell_type": "markdown",
   "metadata": {},
   "source": [
    "# drt\n",
    "\n",
    "> Tool "
   ]
  },
  {
   "cell_type": "code",
   "execution_count": null,
   "metadata": {},
   "outputs": [],
   "source": [
    "#hide\n",
    "from nbdev.showdoc import *\n",
    "from drt.create_environment import *\n",
    "from pathlib import Path\n",
    "import shutil\n"
   ]
  },
  {
   "cell_type": "code",
   "execution_count": null,
   "metadata": {},
   "outputs": [],
   "source": [
    "def create_test_folder(test_path:Path):\n",
    "    if test_path.exists() and test_path.is_dir():\n",
    "        shutil.rmtree(test_path)\n",
    "    create_environment(test_path)\n",
    "    # Create a new environment\n",
    "    # Populate Delivery data\n",
    "    # Populate Raw data\n",
    "    # populate Datasets\n",
    "    pass"
   ]
  },
  {
   "cell_type": "code",
   "execution_count": null,
   "metadata": {},
   "outputs": [],
   "source": [
    "test_path = Path('test_env')\n",
    "create_test_folder(test_path)"
   ]
  },
  {
   "cell_type": "code",
   "execution_count": null,
   "metadata": {},
   "outputs": [],
   "source": [
    "deliveries = ['2020_01_08_video_files', \n",
    "              '2020_01_09_json_data', \n",
    "              '2020_01_10_csv', \n",
    "              '2020_01_10_excel', \n",
    "              '2020_01_11_dump',\n",
    "              '2020_01_12_missing_source',\n",
    "              '2020_01_13_no structure']\n",
    "\n",
    "for deli in deliveries:\n",
    "    if   deli == '2020_01_12_missing_source':\n",
    "        (test_path / '01_Delivery' / deli / 'data').mkdir(parents=True, exist_ok=True)\n",
    "    elif deli =='2020_01_13_no structure':\n",
    "        (test_path / '01_Delivery' / deli ).mkdir(parents=True, exist_ok=True)\n",
    "    else:\n",
    "        (test_path / '01_Delivery' / deli / 'source').mkdir(parents=True, exist_ok=True)\n",
    "        (test_path / '01_Delivery' / deli / 'data').mkdir(parents=True, exist_ok=True)\n",
    "        \n",
    "\n",
    "\n"
   ]
  },
  {
   "cell_type": "code",
   "execution_count": null,
   "metadata": {},
   "outputs": [
    {
     "data": {
      "text/plain": [
       "\u001b[0;31mSignature:\u001b[0m \u001b[0mtest_path\u001b[0m\u001b[0;34m.\u001b[0m\u001b[0mmkdir\u001b[0m\u001b[0;34m(\u001b[0m\u001b[0mmode\u001b[0m\u001b[0;34m=\u001b[0m\u001b[0;36m511\u001b[0m\u001b[0;34m,\u001b[0m \u001b[0mparents\u001b[0m\u001b[0;34m=\u001b[0m\u001b[0;32mFalse\u001b[0m\u001b[0;34m,\u001b[0m \u001b[0mexist_ok\u001b[0m\u001b[0;34m=\u001b[0m\u001b[0;32mFalse\u001b[0m\u001b[0;34m)\u001b[0m\u001b[0;34m\u001b[0m\u001b[0;34m\u001b[0m\u001b[0m\n",
       "\u001b[0;31mDocstring:\u001b[0m Create a new directory at this given path.\n",
       "\u001b[0;31mFile:\u001b[0m      /opt/miniconda3/envs/drt/lib/python3.8/pathlib.py\n",
       "\u001b[0;31mType:\u001b[0m      method\n"
      ]
     },
     "metadata": {},
     "output_type": "display_data"
    }
   ],
   "source": []
  },
  {
   "cell_type": "code",
   "execution_count": null,
   "metadata": {},
   "outputs": [],
   "source": [
    "#hide\n",
    "from nbdev.export import notebook2script; notebook2script()"
   ]
  }
 ],
 "metadata": {
  "kernelspec": {
   "display_name": "drt",
   "language": "python",
   "name": "drt"
  }
 },
 "nbformat": 4,
 "nbformat_minor": 4
}
