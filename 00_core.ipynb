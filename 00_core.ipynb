{
 "cells": [
  {
   "cell_type": "code",
   "execution_count": null,
   "metadata": {
    "hide_input": true
   },
   "outputs": [],
   "source": [
    "#hide\n",
    "#default_exp core\n",
    "from nbdev import *\n",
    "%load_ext autoreload\n",
    "%autoreload 2"
   ]
  },
  {
   "cell_type": "markdown",
   "metadata": {},
   "source": [
    "# drt\n",
    "\n",
    "> Tool "
   ]
  },
  {
   "cell_type": "code",
   "execution_count": null,
   "metadata": {},
   "outputs": [],
   "source": [
    "#hide\n",
    "from nbdev.showdoc import *\n",
    "from drt.create_environment import *\n",
    "from drt.environment import DataIntakeEnv\n",
    "from drt.registration import register_all\n",
    "from drt.receipt import sync_data_folder\n",
    "from drt.verification import check_datagroup\n",
    "import drt.data_model as dm\n",
    "from pathlib import Path\n",
    "import shutil\n",
    "import drt\n",
    "import re\n",
    "from zipfile import ZipFile\n",
    "try:\n",
    "    import importlib.resources as pkg_resources\n",
    "except ImportError:\n",
    "    # Try backported to PY<37 `importlib_resources`.\n",
    "    import importlib_resources as pkg_resources"
   ]
  },
  {
   "cell_type": "code",
   "execution_count": null,
   "metadata": {},
   "outputs": [],
   "source": [
    "def create_test_folder(test_path:Path):\n",
    "    \"\"\"\n",
    "    Create a folder in a location with dummy data ready to be registered\n",
    "    \"\"\"\n",
    "    if test_path.exists() and test_path.is_dir():\n",
    "        shutil.rmtree(test_path)\n",
    "    create_environment(test_path)\n",
    "    # TODO : Turn this into a zip extraction to avoid interference\n",
    "\n",
    "    (test_path/'01_Delivery').rmdir()\n",
    "    (test_path/'02_RAW').rmdir()\n",
    "    (test_path/'03_Datasets').rmdir()\n",
    "\n",
    "    with pkg_resources.path(drt, 'test_files') as test:\n",
    "        with ZipFile(test/'zipped_test.zip', 'r') as zipObj:\n",
    "            zipObj.extractall(test_path)\n",
    "        \n",
    "        # shutil.copytree((test/'01_Delivery'), (test_path / '01_Delivery'),dirs_exist_ok=True)\n",
    "        # shutil.copytree((test/'02_RAW'), (test_path / '02_RAW'),dirs_exist_ok=True)\n",
    "        # shutil.copytree((test/'03_Datasets'), (test_path / '03_Datasets'),dirs_exist_ok=True)\n",
    "    env = DataIntakeEnv(test_path / '.config' / 'config.ini')\n",
    "\n",
    "    register_all(env)\n",
    "\n",
    "    for data_folder in test_path.iterdir():\n",
    "        if data_folder.is_dir():\n",
    "            for data_group in data_folder.iterdir():\n",
    "                if data_group.name[0] not in ['.','_']:\n",
    "                    if data_folder.name == '01_Delivery':\n",
    "                        if (data_group/'receipt.rst').exists():\n",
    "                            with open(data_group/'receipt.rst', 'rt') as recpt:\n",
    "                                text = recpt.read()\n",
    "                                text = re.sub('(.*\\n:Date Received: )None(.*)', '\\\\1 2020-01-04\\\\2', text, re.MULTILINE)\n",
    "                                text = re.sub('(.*\\n:Received from: )None(.*)', '\\\\1Dummy Recepient\\\\2',text, re.MULTILINE)\n",
    "                                text = re.sub('(.*\\nDescription:\\n-+\\n)None(.*)', '\\\\1Lorem ipsum Dolor sit Amet\\\\2', text, re.MULTILINE)\n",
    "                            with open(data_group/'receipt.rst', 'wt') as recpt:\n",
    "                                recpt.write(text)\n",
    "                    else:\n",
    "                        if (data_group/'receipt.rst').exists():\n",
    "                            with open(data_group/'receipt.rst', 'rt') as recpt:\n",
    "                                text = recpt.read()\n",
    "                                text = re.sub('(.*\\nDescription:\\n-+\\n)None(.*)', '\\\\1Lorem ipsum Dolor sit Amet\\\\2', text, re.MULTILINE)\n",
    "                                text = re.sub('(.*\\nReport\\n-+\\n)None(.*)', '\\\\1Dummy HTML Report\\\\2', text, re.MULTILINE)\n",
    "                            with open(data_group/'receipt.rst', 'wt') as recpt:\n",
    "                                recpt.write(text)\n",
    "\n",
    "    [sync_data_folder(env,group_type ) for group_type in [dm.Delivery, dm.Raw_Data, dm.Dataset] ]\n",
    "    \n",
    "\n"
   ]
  },
  {
   "cell_type": "code",
   "execution_count": null,
   "metadata": {},
   "outputs": [
    {
     "name": "stderr",
     "output_type": "stream",
     "text": []
    },
    {
     "name": "stdout",
     "output_type": "stream",
     "text": [
      "[!] test_env/01_Delivery/2020_01_13_no structure not processed, empty or non-existent\n",
      "Writing receipt to test_env/01_Delivery/2020_01_10_iris_csv\n",
      "Writing receipt to test_env/01_Delivery/2020_01_11_dump\n",
      "Writing receipt to test_env/01_Delivery/2020_01_09_near_earth_json\n",
      "Writing receipt to test_env/01_Delivery/2020_01_12_missing_source\n",
      "Writing receipt to test_env/01_Delivery/2020_01_08_video_files\n",
      "Writing receipt to test_env/01_Delivery/2020_01_10_measurements_excel\n",
      "Writing receipt to test_env/02_RAW/2020_02_03_iris_versicolor\n",
      "Writing receipt to test_env/02_RAW/2020_02_02_iris_versicolor\n",
      "Writing receipt to test_env/02_RAW/2020_02_03_missing_source\n",
      "Writing receipt to test_env/02_RAW/2020_02_01_rick_roll_videos\n",
      "Writing receipt to test_env/02_RAW/2020_02_02_metal_measurements\n",
      "Writing receipt to test_env/02_RAW/2020_02_01_near_earth_objects\n",
      "Writing receipt to test_env/02_RAW/2020_02_03_netflix_titles\n",
      "Writing receipt to test_env/02_RAW/2020_02_02_temperature_mass_measurements\n",
      "Writing receipt to test_env/03_Datasets/2020_02_04_iris_versicolor\n",
      "Writing receipt to test_env/03_Datasets/2020_02_04_movie_titles\n",
      "Writing receipt to test_env/03_Datasets/2020_02_04_asteroid_metal_mass\n"
     ]
    }
   ],
   "source": [
    "test_path = Path('test_env')\n",
    "create_test_folder(test_path)"
   ]
  },
  {
   "cell_type": "code",
   "execution_count": null,
   "metadata": {},
   "outputs": [
    {
     "data": {
      "text/plain": "'this is not a test string'"
     },
     "execution_count": null,
     "metadata": {},
     "output_type": "execute_result"
    }
   ],
   "source": [
    "strin = 'this is a test string'\n",
    "re.sub('(this is )a(.*)', '\\\\1not a\\\\2', strin)"
   ]
  },
  {
   "cell_type": "code",
   "execution_count": null,
   "metadata": {},
   "outputs": [
    {
     "name": "stderr",
     "output_type": "stream",
     "text": []
    },
    {
     "name": "stdout",
     "output_type": "stream",
     "text": [
      "Writing receipt to test_env/01_Delivery/2020_01_10_iris_csv\n",
      "Writing receipt to test_env/01_Delivery/2020_01_11_dump\n",
      "Writing receipt to test_env/01_Delivery/2020_01_09_near_earth_json\n",
      "Writing receipt to test_env/01_Delivery/2020_01_12_missing_source\n",
      "Writing receipt to test_env/01_Delivery/2020_01_08_video_files\n",
      "Writing receipt to test_env/01_Delivery/2020_01_10_measurements_excel\n",
      "Writing receipt to test_env/02_RAW/2020_02_03_iris_versicolor\n",
      "Writing receipt to test_env/02_RAW/2020_02_02_iris_versicolor\n",
      "Writing receipt to test_env/02_RAW/2020_02_03_missing_source\n",
      "Writing receipt to test_env/02_RAW/2020_02_01_rick_roll_videos\n",
      "Writing receipt to test_env/02_RAW/2020_02_02_metal_measurements\n",
      "Writing receipt to test_env/02_RAW/2020_02_01_near_earth_objects\n",
      "Writing receipt to test_env/02_RAW/2020_02_03_netflix_titles\n",
      "Writing receipt to test_env/02_RAW/2020_02_02_temperature_mass_measurements\n",
      "Writing receipt to test_env/03_Datasets/2020_02_04_iris_versicolor\n",
      "Writing receipt to test_env/03_Datasets/2020_02_04_movie_titles\n",
      "Writing receipt to test_env/03_Datasets/2020_02_04_asteroid_metal_mass\n",
      "[DLV] Registered data missing files or empty folder at test_env/01_Delivery/2020_01_13_no structure\n",
      "[DLV] No Data registered for: 2020_01_13_no structure\n",
      "[RAW] No Data registered for: In_Progress_2020_01_13_no structure\n",
      "[RAW] 2020_02_03_iris_versicolor missing statistics report\n",
      "[RAW] 2020_02_02_iris_versicolor missing statistics report\n",
      "[RAW] 2020_02_03_missing_source missing statistics report\n",
      "[RAW] 2020_02_01_rick_roll_videos missing statistics report\n",
      "[RAW] 2020_02_02_metal_measurements missing statistics report\n",
      "[RAW] 2020_02_01_near_earth_objects missing statistics report\n",
      "[RAW] 2020_02_03_netflix_titles missing statistics report\n",
      "[RAW] 2020_02_02_temperature_mass_measurements missing statistics report\n",
      "[DAT] Registered data missing files or empty folder at test_env/03_Datasets/In_Progress_2020_02_04_rick_rolling\n",
      "[DAT] 2020_02_04_iris_versicolor missing dataset data sheet\n",
      "[DAT] No Data registered for: In_Progress_2020_02_04_rick_rolling\n",
      "[DAT] 2020_02_04_movie_titles missing dataset data sheet\n",
      "[DAT] 2020_02_04_asteroid_metal_mass missing dataset data sheet\n"
     ]
    },
    {
     "data": {
      "text/plain": "[None, None, None]"
     },
     "execution_count": null,
     "metadata": {},
     "output_type": "execute_result"
    }
   ],
   "source": [
    "\n",
    "env = DataIntakeEnv(test_path / '.config' / 'config.ini')\n",
    "\n",
    "[sync_data_folder(env,group_type ) for group_type in [dm.Delivery, dm.Raw_Data, dm.Dataset] ]\n",
    "[check_datagroup(env, group_type, light=False) for group_type in [dm.Delivery, dm.Raw_Data, dm.Dataset]]"
   ]
  },
  {
   "cell_type": "code",
   "execution_count": null,
   "metadata": {},
   "outputs": [],
   "source": [
    "# shutil.rmtree(test_path)"
   ]
  },
  {
   "cell_type": "code",
   "execution_count": null,
   "metadata": {},
   "outputs": [],
   "source": [
    "#hide\n",
    "#from nbdev.export import notebook2script; notebook2script()"
   ]
  },
  {
   "cell_type": "code",
   "execution_count": null,
   "metadata": {},
   "outputs": [
    {
     "data": {
      "text/plain": "Path('/Users/jvanderh/Desktop/drt_nbdev/data-registration-tool')"
     },
     "execution_count": null,
     "metadata": {},
     "output_type": "execute_result"
    }
   ],
   "source": [
    "Path.cwd()"
   ]
  },
  {
   "cell_type": "code",
   "execution_count": null,
   "metadata": {},
   "outputs": [],
   "source": []
  }
 ],
 "metadata": {
  "kernelspec": {
   "display_name": "drt",
   "language": "python",
   "name": "drt"
  }
 },
 "nbformat": 4,
 "nbformat_minor": 4
}
