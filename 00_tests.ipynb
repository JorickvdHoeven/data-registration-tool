{
 "cells": [
  {
   "cell_type": "code",
   "execution_count": null,
   "metadata": {
    "hide_input": true
   },
   "outputs": [
    {
     "name": "stdout",
     "output_type": "stream",
     "text": [
      "The autoreload extension is already loaded. To reload it, use:\n",
      "  %reload_ext autoreload\n"
     ]
    },
    {
     "name": "stderr",
     "output_type": "stream",
     "text": [
      "[autoreload of drt.data_model failed: Traceback (most recent call last):\n",
      "  File \"/opt/miniconda3/envs/drt/lib/python3.8/site-packages/IPython/extensions/autoreload.py\", line 245, in check\n",
      "    superreload(m, reload, self.old_objects)\n",
      "  File \"/opt/miniconda3/envs/drt/lib/python3.8/site-packages/IPython/extensions/autoreload.py\", line 410, in superreload\n",
      "    update_generic(old_obj, new_obj)\n",
      "  File \"/opt/miniconda3/envs/drt/lib/python3.8/site-packages/IPython/extensions/autoreload.py\", line 347, in update_generic\n",
      "    update(a, b)\n",
      "  File \"/opt/miniconda3/envs/drt/lib/python3.8/site-packages/IPython/extensions/autoreload.py\", line 292, in update_class\n",
      "    if (old_obj == new_obj) is True:\n",
      "  File \"/opt/miniconda3/envs/drt/lib/python3.8/site-packages/sqlalchemy/sql/operators.py\", line 365, in __eq__\n",
      "    return self.operate(eq, other)\n",
      "  File \"/opt/miniconda3/envs/drt/lib/python3.8/site-packages/sqlalchemy/orm/attributes.py\", line 226, in operate\n",
      "    return op(self.comparator, *other, **kwargs)\n",
      "  File \"/opt/miniconda3/envs/drt/lib/python3.8/site-packages/sqlalchemy/orm/relationships.py\", line 1262, in __eq__\n",
      "    raise sa_exc.InvalidRequestError(\n",
      "sqlalchemy.exc.InvalidRequestError: Can't compare a collection to an object or collection; use contains() to test for membership.\n",
      "]\n"
     ]
    }
   ],
   "source": [
    "#hide\n",
    "#default_exp tests\n",
    "from nbdev import *\n",
    "%load_ext autoreload\n",
    "%autoreload 2"
   ]
  },
  {
   "cell_type": "markdown",
   "metadata": {},
   "source": [
    "# Tests\n",
    "\n",
    "> Tests to see if stuff works and to illustrate a few points "
   ]
  },
  {
   "cell_type": "code",
   "execution_count": null,
   "metadata": {},
   "outputs": [],
   "source": [
    "#hide\n",
    "#export\n",
    "from nbdev.showdoc import *\n",
    "from drt.create_environment import *\n",
    "from drt.environment import DataIntakeEnv\n",
    "from drt.registration import register_all\n",
    "from drt.receipt import sync_data_folder\n",
    "from drt.verification import check_datagroup\n",
    "import drt.data_model as dm\n",
    "from pathlib import Path\n",
    "import shutil\n",
    "import drt\n",
    "import re\n",
    "from zipfile import ZipFile\n",
    "try:\n",
    "    import importlib.resources as pkg_resources\n",
    "except ImportError:\n",
    "    # Try backported to PY<37 `importlib_resources`.\n",
    "    import importlib_resources as pkg_resources\n",
    "    "
   ]
  },
  {
   "cell_type": "code",
   "execution_count": null,
   "metadata": {},
   "outputs": [],
   "source": []
  },
  {
   "cell_type": "code",
   "execution_count": null,
   "metadata": {},
   "outputs": [],
   "source": [
    "#export\n",
    "def create_test_folder(test_path:Path):\n",
    "    \"\"\"\n",
    "    Create a folder in a location with dummy data ready to be registered\n",
    "    \"\"\"\n",
    "    if test_path.exists() and test_path.is_dir():\n",
    "        shutil.rmtree(test_path)\n",
    "    create_environment(test_path)\n",
    "    # TODO : Turn this into a zip extraction to avoid interference\n",
    "\n",
    "    (test_path/'01_Delivery').rmdir()\n",
    "    (test_path/'02_RAW').rmdir()\n",
    "    (test_path/'03_Datasets').rmdir()\n",
    "\n",
    "    with pkg_resources.path(drt, 'test_files') as test:\n",
    "        with ZipFile(test/'zipped_test.zip', 'r') as zipObj:\n",
    "            zipObj.extractall(test_path)\n",
    "        \n",
    "        # shutil.copytree((test/'01_Delivery'), (test_path / '01_Delivery'),dirs_exist_ok=True)\n",
    "        # shutil.copytree((test/'02_RAW'), (test_path / '02_RAW'),dirs_exist_ok=True)\n",
    "        # shutil.copytree((test/'03_Datasets'), (test_path / '03_Datasets'),dirs_exist_ok=True)\n",
    "    env = DataIntakeEnv(test_path / '.config' / 'config.ini')\n",
    "\n",
    "    register_all(env)\n",
    "\n",
    "    for data_folder in test_path.iterdir():\n",
    "        if data_folder.is_dir():\n",
    "            for data_group in data_folder.iterdir():\n",
    "                if data_group.name[0] not in ['.','_']:\n",
    "                    if data_folder.name == '01_Delivery':\n",
    "                        if (data_group/'receipt.rst').exists():\n",
    "                            with open(data_group/'receipt.rst', 'rt') as recpt:\n",
    "                                text = recpt.read()\n",
    "                                text = re.sub('(.*\\n:Date Received: )None(.*)', '\\\\1 2020-01-04\\\\2', text, re.MULTILINE)\n",
    "                                text = re.sub('(.*\\n:Received from: )None(.*)', '\\\\1Dummy Recepient\\\\2',text, re.MULTILINE)\n",
    "                                text = re.sub('(.*\\nDescription:\\n-+\\n)None(.*)', '\\\\1Lorem ipsum Dolor sit Amet\\\\2', text, re.MULTILINE)\n",
    "                            with open(data_group/'receipt.rst', 'wt') as recpt:\n",
    "                                recpt.write(text)\n",
    "                    else:\n",
    "                        if (data_group/'receipt.rst').exists():\n",
    "                            with open(data_group/'receipt.rst', 'rt') as recpt:\n",
    "                                text = recpt.read()\n",
    "                                text = re.sub('(.*\\nDescription:\\n-+\\n)None(.*)', '\\\\1Lorem ipsum Dolor sit Amet\\\\2', text, re.MULTILINE)\n",
    "                                text = re.sub('(.*\\nReport\\n-+\\n)None(\\n.*)', '\\\\1Dummy HTML Report\\\\2', text, re.MULTILINE)\n",
    "                            with open(data_group/'receipt.rst', 'wt') as recpt:\n",
    "                                recpt.write(text)\n",
    "\n",
    "    [sync_data_folder(env,group_type ) for group_type in [dm.Delivery, dm.Raw_Data, dm.Dataset] ]\n",
    "    \n",
    "\n"
   ]
  },
  {
   "cell_type": "code",
   "execution_count": null,
   "metadata": {},
   "outputs": [
    {
     "data": {
      "application/vnd.jupyter.widget-view+json": {
       "model_id": "",
       "version_major": 2,
       "version_minor": 0
      },
      "text/plain": [
       "  0%|          | 0/1 [00:00<?, ?files/s]"
      ]
     },
     "metadata": {},
     "output_type": "display_data"
    },
    {
     "data": {
      "application/vnd.jupyter.widget-view+json": {
       "model_id": "",
       "version_major": 2,
       "version_minor": 0
      },
      "text/plain": [
       "  0%|          | 0/1 [00:00<?, ?files/s]"
      ]
     },
     "metadata": {},
     "output_type": "display_data"
    },
    {
     "data": {
      "application/vnd.jupyter.widget-view+json": {
       "model_id": "",
       "version_major": 2,
       "version_minor": 0
      },
      "text/plain": [
       "  0%|          | 0/6 [00:00<?, ?files/s]"
      ]
     },
     "metadata": {},
     "output_type": "display_data"
    },
    {
     "data": {
      "application/vnd.jupyter.widget-view+json": {
       "model_id": "",
       "version_major": 2,
       "version_minor": 0
      },
      "text/plain": [
       "  0%|          | 0/2 [00:00<?, ?files/s]"
      ]
     },
     "metadata": {},
     "output_type": "display_data"
    },
    {
     "data": {
      "application/vnd.jupyter.widget-view+json": {
       "model_id": "",
       "version_major": 2,
       "version_minor": 0
      },
      "text/plain": [
       "  0%|          | 0/4 [00:00<?, ?files/s]"
      ]
     },
     "metadata": {},
     "output_type": "display_data"
    },
    {
     "data": {
      "application/vnd.jupyter.widget-view+json": {
       "model_id": "",
       "version_major": 2,
       "version_minor": 0
      },
      "text/plain": [
       "  0%|          | 0/1 [00:00<?, ?files/s]"
      ]
     },
     "metadata": {},
     "output_type": "display_data"
    },
    {
     "name": "stdout",
     "output_type": "stream",
     "text": [
      "[!] test_env/01_Delivery/2020_01_13_no structure not processed, empty or non-existent\n"
     ]
    },
    {
     "data": {
      "application/vnd.jupyter.widget-view+json": {
       "model_id": "",
       "version_major": 2,
       "version_minor": 0
      },
      "text/plain": [
       "  0%|          | 0/1 [00:00<?, ?files/s]"
      ]
     },
     "metadata": {},
     "output_type": "display_data"
    },
    {
     "data": {
      "application/vnd.jupyter.widget-view+json": {
       "model_id": "",
       "version_major": 2,
       "version_minor": 0
      },
      "text/plain": [
       "  0%|          | 0/1 [00:00<?, ?files/s]"
      ]
     },
     "metadata": {},
     "output_type": "display_data"
    },
    {
     "data": {
      "application/vnd.jupyter.widget-view+json": {
       "model_id": "",
       "version_major": 2,
       "version_minor": 0
      },
      "text/plain": [
       "  0%|          | 0/8 [00:00<?, ?files/s]"
      ]
     },
     "metadata": {},
     "output_type": "display_data"
    },
    {
     "data": {
      "application/vnd.jupyter.widget-view+json": {
       "model_id": "",
       "version_major": 2,
       "version_minor": 0
      },
      "text/plain": [
       "  0%|          | 0/3 [00:00<?, ?files/s]"
      ]
     },
     "metadata": {},
     "output_type": "display_data"
    },
    {
     "data": {
      "application/vnd.jupyter.widget-view+json": {
       "model_id": "",
       "version_major": 2,
       "version_minor": 0
      },
      "text/plain": [
       "  0%|          | 0/3 [00:00<?, ?files/s]"
      ]
     },
     "metadata": {},
     "output_type": "display_data"
    },
    {
     "data": {
      "application/vnd.jupyter.widget-view+json": {
       "model_id": "",
       "version_major": 2,
       "version_minor": 0
      },
      "text/plain": [
       "  0%|          | 0/3 [00:00<?, ?files/s]"
      ]
     },
     "metadata": {},
     "output_type": "display_data"
    },
    {
     "data": {
      "application/vnd.jupyter.widget-view+json": {
       "model_id": "",
       "version_major": 2,
       "version_minor": 0
      },
      "text/plain": [
       "  0%|          | 0/3 [00:00<?, ?files/s]"
      ]
     },
     "metadata": {},
     "output_type": "display_data"
    },
    {
     "data": {
      "application/vnd.jupyter.widget-view+json": {
       "model_id": "",
       "version_major": 2,
       "version_minor": 0
      },
      "text/plain": [
       "  0%|          | 0/3 [00:00<?, ?files/s]"
      ]
     },
     "metadata": {},
     "output_type": "display_data"
    },
    {
     "data": {
      "application/vnd.jupyter.widget-view+json": {
       "model_id": "",
       "version_major": 2,
       "version_minor": 0
      },
      "text/plain": [
       "  0%|          | 0/3 [00:00<?, ?files/s]"
      ]
     },
     "metadata": {},
     "output_type": "display_data"
    },
    {
     "data": {
      "application/vnd.jupyter.widget-view+json": {
       "model_id": "",
       "version_major": 2,
       "version_minor": 0
      },
      "text/plain": [
       "  0%|          | 0/3 [00:00<?, ?files/s]"
      ]
     },
     "metadata": {},
     "output_type": "display_data"
    },
    {
     "data": {
      "application/vnd.jupyter.widget-view+json": {
       "model_id": "",
       "version_major": 2,
       "version_minor": 0
      },
      "text/plain": [
       "  0%|          | 0/3 [00:00<?, ?files/s]"
      ]
     },
     "metadata": {},
     "output_type": "display_data"
    },
    {
     "data": {
      "application/vnd.jupyter.widget-view+json": {
       "model_id": "",
       "version_major": 2,
       "version_minor": 0
      },
      "text/plain": [
       "  0%|          | 0/3 [00:00<?, ?files/s]"
      ]
     },
     "metadata": {},
     "output_type": "display_data"
    },
    {
     "data": {
      "application/vnd.jupyter.widget-view+json": {
       "model_id": "",
       "version_major": 2,
       "version_minor": 0
      },
      "text/plain": [
       "  0%|          | 0/3 [00:00<?, ?files/s]"
      ]
     },
     "metadata": {},
     "output_type": "display_data"
    },
    {
     "name": "stdout",
     "output_type": "stream",
     "text": [
      "Writing receipt to test_env/01_Delivery/2020_01_10_iris_csv\n",
      "Writing receipt to test_env/01_Delivery/2020_01_11_dump\n",
      "Writing receipt to test_env/01_Delivery/2021_01_19_Iris\n",
      "Writing receipt to test_env/01_Delivery/2020_01_09_near_earth_json\n",
      "Writing receipt to test_env/01_Delivery/2020_01_12_missing_source\n",
      "Writing receipt to test_env/01_Delivery/2020_01_08_video_files\n",
      "Writing receipt to test_env/01_Delivery/2021_01_19_Mnist\n",
      "Writing receipt to test_env/01_Delivery/2020_01_10_measurements_excel\n",
      "Writing receipt to test_env/02_RAW/2020_02_03_iris_versicolor\n",
      "Writing receipt to test_env/02_RAW/2020_02_02_iris_versicolor\n",
      "Writing receipt to test_env/02_RAW/2020_02_03_missing_source\n",
      "Writing receipt to test_env/02_RAW/2020_02_01_rick_roll_videos\n",
      "Writing receipt to test_env/02_RAW/2020_02_02_metal_measurements\n",
      "Writing receipt to test_env/02_RAW/2020_02_01_near_earth_objects\n",
      "Writing receipt to test_env/02_RAW/2020_02_03_netflix_titles\n",
      "Writing receipt to test_env/02_RAW/2020_02_02_temperature_mass_measurements\n",
      "Writing receipt to test_env/03_Datasets/2020_02_04_iris_versicolor\n",
      "Writing receipt to test_env/03_Datasets/2020_02_04_movie_titles\n",
      "Writing receipt to test_env/03_Datasets/2020_02_04_asteroid_metal_mass\n"
     ]
    }
   ],
   "source": [
    "test_path = Path('test_env')\n",
    "create_test_folder(test_path)"
   ]
  },
  {
   "cell_type": "code",
   "execution_count": null,
   "metadata": {},
   "outputs": [
    {
     "data": {
      "text/plain": [
       "'\\n\\n-------------\\n:Files Last Changed: 2021-02-10 20:20:18.899966\\n:File Size: 1244762\\n:Number of Files: 3\\n:Hash: 975bd61edb1adec7b61b8fb459de04e775d286bcc5cd19a4be67c74c04044e46\\n\\nReport\\n------\\nDummy HTML Report\\n\\n'"
      ]
     },
     "execution_count": null,
     "metadata": {},
     "output_type": "execute_result"
    }
   ],
   "source": [
    "text = \"\"\"\n",
    "\n",
    "-------------\n",
    ":Files Last Changed: 2021-02-10 20:20:18.899966\n",
    ":File Size: 1244762\n",
    ":Number of Files: 3\n",
    ":Hash: 975bd61edb1adec7b61b8fb459de04e775d286bcc5cd19a4be67c74c04044e46\n",
    "\n",
    "Report\n",
    "------\n",
    "None\n",
    "\n",
    "\"\"\"\n",
    "re.sub('(.*\\nReport\\n-+\\n)None(\\n.*)', '\\\\1Dummy HTML Report\\\\2', text, re.MULTILINE)"
   ]
  },
  {
   "cell_type": "code",
   "execution_count": null,
   "metadata": {},
   "outputs": [
    {
     "name": "stdout",
     "output_type": "stream",
     "text": [
      "Writing receipt to test_env/01_Delivery/2020_01_10_iris_csv\n",
      "Writing receipt to test_env/01_Delivery/2020_01_11_dump\n",
      "Writing receipt to test_env/01_Delivery/2021_01_19_Iris\n",
      "Writing receipt to test_env/01_Delivery/2020_01_09_near_earth_json\n",
      "Writing receipt to test_env/01_Delivery/2020_01_12_missing_source\n",
      "Writing receipt to test_env/01_Delivery/2020_01_08_video_files\n",
      "Writing receipt to test_env/01_Delivery/2021_01_19_Mnist\n",
      "Writing receipt to test_env/01_Delivery/2020_01_10_measurements_excel\n",
      "Writing receipt to test_env/02_RAW/2020_02_03_iris_versicolor\n",
      "Writing receipt to test_env/02_RAW/2020_02_02_iris_versicolor\n",
      "Writing receipt to test_env/02_RAW/2020_02_03_missing_source\n",
      "Writing receipt to test_env/02_RAW/2020_02_01_rick_roll_videos\n",
      "Writing receipt to test_env/02_RAW/2020_02_02_metal_measurements\n",
      "Writing receipt to test_env/02_RAW/2020_02_01_near_earth_objects\n",
      "Writing receipt to test_env/02_RAW/2020_02_03_netflix_titles\n",
      "Writing receipt to test_env/02_RAW/2020_02_02_temperature_mass_measurements\n",
      "Writing receipt to test_env/03_Datasets/2020_02_04_iris_versicolor\n",
      "Writing receipt to test_env/03_Datasets/2020_02_04_movie_titles\n",
      "Writing receipt to test_env/03_Datasets/2020_02_04_asteroid_metal_mass\n"
     ]
    },
    {
     "data": {
      "text/plain": [
       "[None, None, None]"
      ]
     },
     "execution_count": null,
     "metadata": {},
     "output_type": "execute_result"
    }
   ],
   "source": [
    "env = DataIntakeEnv(test_path / '.config' / 'config.ini')\n",
    "\n",
    "[sync_data_folder(env,group_type ) for group_type in [dm.Delivery, dm.Raw_Data, dm.Dataset] ]"
   ]
  },
  {
   "cell_type": "code",
   "execution_count": null,
   "metadata": {},
   "outputs": [
    {
     "data": {
      "application/vnd.jupyter.widget-view+json": {
       "model_id": "",
       "version_major": 2,
       "version_minor": 0
      },
      "text/plain": [
       "  0%|          | 0/9 [00:00<?, ?data group/s]"
      ]
     },
     "metadata": {},
     "output_type": "display_data"
    },
    {
     "data": {
      "application/vnd.jupyter.widget-view+json": {
       "model_id": "",
       "version_major": 2,
       "version_minor": 0
      },
      "text/plain": [
       "  0%|          | 0/1 [00:00<?, ?files/s]"
      ]
     },
     "metadata": {},
     "output_type": "display_data"
    },
    {
     "data": {
      "application/vnd.jupyter.widget-view+json": {
       "model_id": "",
       "version_major": 2,
       "version_minor": 0
      },
      "text/plain": [
       "  0%|          | 0/4 [00:00<?, ?files/s]"
      ]
     },
     "metadata": {},
     "output_type": "display_data"
    },
    {
     "data": {
      "application/vnd.jupyter.widget-view+json": {
       "model_id": "",
       "version_major": 2,
       "version_minor": 0
      },
      "text/plain": [
       "  0%|          | 0/1 [00:00<?, ?files/s]"
      ]
     },
     "metadata": {},
     "output_type": "display_data"
    },
    {
     "data": {
      "application/vnd.jupyter.widget-view+json": {
       "model_id": "",
       "version_major": 2,
       "version_minor": 0
      },
      "text/plain": [
       "  0%|          | 0/1 [00:00<?, ?files/s]"
      ]
     },
     "metadata": {},
     "output_type": "display_data"
    },
    {
     "data": {
      "application/vnd.jupyter.widget-view+json": {
       "model_id": "",
       "version_major": 2,
       "version_minor": 0
      },
      "text/plain": [
       "  0%|          | 0/1 [00:00<?, ?files/s]"
      ]
     },
     "metadata": {},
     "output_type": "display_data"
    },
    {
     "data": {
      "application/vnd.jupyter.widget-view+json": {
       "model_id": "",
       "version_major": 2,
       "version_minor": 0
      },
      "text/plain": [
       "  0%|          | 0/6 [00:00<?, ?files/s]"
      ]
     },
     "metadata": {},
     "output_type": "display_data"
    },
    {
     "data": {
      "application/vnd.jupyter.widget-view+json": {
       "model_id": "",
       "version_major": 2,
       "version_minor": 0
      },
      "text/plain": [
       "  0%|          | 0/2 [00:00<?, ?files/s]"
      ]
     },
     "metadata": {},
     "output_type": "display_data"
    },
    {
     "data": {
      "application/vnd.jupyter.widget-view+json": {
       "model_id": "",
       "version_major": 2,
       "version_minor": 0
      },
      "text/plain": [
       "  0%|          | 0/1 [00:00<?, ?files/s]"
      ]
     },
     "metadata": {},
     "output_type": "display_data"
    },
    {
     "name": "stdout",
     "output_type": "stream",
     "text": [
      "[DLV] 2021_01_19_Iris no data extracted\n",
      "[DLV] Registered data missing files or empty folder at test_env/01_Delivery/2020_01_13_no structure\n",
      "[DLV] No Data registered for: 2020_01_13_no structure\n",
      "[DLV] 2021_01_19_Mnist no data extracted\n"
     ]
    },
    {
     "data": {
      "application/vnd.jupyter.widget-view+json": {
       "model_id": "",
       "version_major": 2,
       "version_minor": 0
      },
      "text/plain": [
       "  0%|          | 0/8 [00:00<?, ?data group/s]"
      ]
     },
     "metadata": {},
     "output_type": "display_data"
    },
    {
     "data": {
      "application/vnd.jupyter.widget-view+json": {
       "model_id": "",
       "version_major": 2,
       "version_minor": 0
      },
      "text/plain": [
       "  0%|          | 0/3 [00:00<?, ?files/s]"
      ]
     },
     "metadata": {},
     "output_type": "display_data"
    },
    {
     "data": {
      "application/vnd.jupyter.widget-view+json": {
       "model_id": "",
       "version_major": 2,
       "version_minor": 0
      },
      "text/plain": [
       "  0%|          | 0/3 [00:00<?, ?files/s]"
      ]
     },
     "metadata": {},
     "output_type": "display_data"
    },
    {
     "data": {
      "application/vnd.jupyter.widget-view+json": {
       "model_id": "",
       "version_major": 2,
       "version_minor": 0
      },
      "text/plain": [
       "  0%|          | 0/3 [00:00<?, ?files/s]"
      ]
     },
     "metadata": {},
     "output_type": "display_data"
    },
    {
     "data": {
      "application/vnd.jupyter.widget-view+json": {
       "model_id": "",
       "version_major": 2,
       "version_minor": 0
      },
      "text/plain": [
       "  0%|          | 0/8 [00:00<?, ?files/s]"
      ]
     },
     "metadata": {},
     "output_type": "display_data"
    },
    {
     "data": {
      "application/vnd.jupyter.widget-view+json": {
       "model_id": "",
       "version_major": 2,
       "version_minor": 0
      },
      "text/plain": [
       "  0%|          | 0/3 [00:00<?, ?files/s]"
      ]
     },
     "metadata": {},
     "output_type": "display_data"
    },
    {
     "data": {
      "application/vnd.jupyter.widget-view+json": {
       "model_id": "",
       "version_major": 2,
       "version_minor": 0
      },
      "text/plain": [
       "  0%|          | 0/3 [00:00<?, ?files/s]"
      ]
     },
     "metadata": {},
     "output_type": "display_data"
    },
    {
     "data": {
      "application/vnd.jupyter.widget-view+json": {
       "model_id": "",
       "version_major": 2,
       "version_minor": 0
      },
      "text/plain": [
       "  0%|          | 0/3 [00:00<?, ?files/s]"
      ]
     },
     "metadata": {},
     "output_type": "display_data"
    },
    {
     "data": {
      "application/vnd.jupyter.widget-view+json": {
       "model_id": "",
       "version_major": 2,
       "version_minor": 0
      },
      "text/plain": [
       "  0%|          | 0/3 [00:00<?, ?files/s]"
      ]
     },
     "metadata": {},
     "output_type": "display_data"
    },
    {
     "name": "stdout",
     "output_type": "stream",
     "text": [
      "\n"
     ]
    },
    {
     "data": {
      "application/vnd.jupyter.widget-view+json": {
       "model_id": "",
       "version_major": 2,
       "version_minor": 0
      },
      "text/plain": [
       "  0%|          | 0/3 [00:00<?, ?data group/s]"
      ]
     },
     "metadata": {},
     "output_type": "display_data"
    },
    {
     "data": {
      "application/vnd.jupyter.widget-view+json": {
       "model_id": "",
       "version_major": 2,
       "version_minor": 0
      },
      "text/plain": [
       "  0%|          | 0/3 [00:00<?, ?files/s]"
      ]
     },
     "metadata": {},
     "output_type": "display_data"
    },
    {
     "data": {
      "application/vnd.jupyter.widget-view+json": {
       "model_id": "",
       "version_major": 2,
       "version_minor": 0
      },
      "text/plain": [
       "  0%|          | 0/3 [00:00<?, ?files/s]"
      ]
     },
     "metadata": {},
     "output_type": "display_data"
    },
    {
     "data": {
      "application/vnd.jupyter.widget-view+json": {
       "model_id": "",
       "version_major": 2,
       "version_minor": 0
      },
      "text/plain": [
       "  0%|          | 0/3 [00:00<?, ?files/s]"
      ]
     },
     "metadata": {},
     "output_type": "display_data"
    },
    {
     "name": "stdout",
     "output_type": "stream",
     "text": [
      "\n"
     ]
    },
    {
     "data": {
      "text/plain": [
       "[['[DLV] 2021_01_19_Iris no data extracted',\n",
       "  '[DLV] Registered data missing files or empty folder at test_env/01_Delivery/2020_01_13_no structure',\n",
       "  '[DLV] No Data registered for: 2020_01_13_no structure',\n",
       "  '[DLV] 2021_01_19_Mnist no data extracted'],\n",
       " [],\n",
       " []]"
      ]
     },
     "execution_count": null,
     "metadata": {},
     "output_type": "execute_result"
    }
   ],
   "source": [
    "[check_datagroup(env, group_type, light=False) for group_type in [dm.Delivery, dm.Raw_Data, dm.Dataset]]"
   ]
  },
  {
   "cell_type": "code",
   "execution_count": null,
   "metadata": {},
   "outputs": [],
   "source": [
    "shutil.rmtree(test_path)"
   ]
  },
  {
   "cell_type": "code",
   "execution_count": null,
   "metadata": {},
   "outputs": [
    {
     "name": "stdout",
     "output_type": "stream",
     "text": [
      "Converted 00_tests.ipynb.\n",
      "Converted 01_cli.ipynb.\n",
      "Converted 02_create_environment.ipynb.\n",
      "Converted 03_data_model.ipynb.\n",
      "Converted 04_environment.ipynb.\n",
      "Converted 05_receipt.ipynb.\n",
      "Converted 06_registration.ipynb.\n",
      "Converted 07_verification.ipynb.\n",
      "Converted 99_utils.ipynb.\n",
      "Converted index.ipynb.\n"
     ]
    }
   ],
   "source": [
    "#hide\n",
    "from nbdev.export import notebook2script; notebook2script()"
   ]
  },
  {
   "cell_type": "code",
   "execution_count": null,
   "metadata": {},
   "outputs": [],
   "source": []
  }
 ],
 "metadata": {
  "kernelspec": {
   "display_name": "drt",
   "language": "python",
   "name": "drt"
  }
 },
 "nbformat": 4,
 "nbformat_minor": 4
}
