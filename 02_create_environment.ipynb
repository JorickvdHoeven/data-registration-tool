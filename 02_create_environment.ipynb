{
 "cells": [
  {
   "cell_type": "code",
   "execution_count": null,
   "id": "ancient-metadata",
   "metadata": {
    "hide_input": true
   },
   "outputs": [],
   "source": [
    "from nbdev import *\n",
    "from drt.create_environment import *"
   ]
  },
  {
   "cell_type": "code",
   "execution_count": null,
   "id": "numeric-password",
   "metadata": {},
   "outputs": [],
   "source": [
    "#default_exp create_environment"
   ]
  },
  {
   "cell_type": "code",
   "execution_count": null,
   "id": "preceding-diving",
   "metadata": {},
   "outputs": [],
   "source": [
    "%load_ext autoreload\n",
    "%autoreload 2"
   ]
  },
  {
   "cell_type": "code",
   "execution_count": null,
   "id": "supreme-twist",
   "metadata": {},
   "outputs": [],
   "source": [
    "#export\n",
    "\n",
    "import sqlalchemy as db\n",
    "from pathlib import Path\n",
    "import shutil\n",
    "import configparser\n",
    "import drt.data_model as dm"
   ]
  },
  {
   "cell_type": "markdown",
   "id": "female-heath",
   "metadata": {},
   "source": [
    "# Create Environment\n",
    "\n",
    "> This creates a new environment setting up the main data locations as well as installing a new configuration folder with a config file and a sqlite database that is used to track data elements and their associated metadata."
   ]
  },
  {
   "cell_type": "code",
   "execution_count": null,
   "id": "aerial-temple",
   "metadata": {},
   "outputs": [
    {
     "data": {
      "text/markdown": [
       "<h4 id=\"create_data_model\" class=\"doc_header\"><code>create_data_model</code><a href=\"https://github.com/JorickvdHoeven/drt/tree/master/drt/create_environment.py#L14\" class=\"source_link\" style=\"float:right\">[source]</a></h4>\n",
       "\n",
       "> <code>create_data_model</code>(**`file_name`**:`str`=*`None`*, **`location`**:`Path`=*`None`*)\n",
       "\n",
       "Creates an SQLite database with the appropriate tables for use in\n",
       "managing the data intake process.\n",
       "\n",
       "This will not destroy a pre-existing database file.\n",
       "\n",
       "Parameters\n",
       "----------\n",
       "file_name : str, optional\n",
       "    Name of the database file defaults to 'intake_db'\n",
       "\n",
       "location : Path, optional\n",
       "    Location where to save the db file, by default current working directory"
      ],
      "text/plain": [
       "<IPython.core.display.Markdown object>"
      ]
     },
     "metadata": {},
     "output_type": "display_data"
    }
   ],
   "source": [
    "show_doc(create_data_model)"
   ]
  },
  {
   "cell_type": "code",
   "execution_count": null,
   "id": "dying-fusion",
   "metadata": {},
   "outputs": [
    {
     "data": {
      "text/markdown": [
       "<h4 id=\"create_environment\" class=\"doc_header\"><code>create_environment</code><a href=\"https://github.com/JorickvdHoeven/drt/tree/master/drt/create_environment.py#L136\" class=\"source_link\" style=\"float:right\">[source]</a></h4>\n",
       "\n",
       "> <code>create_environment</code>(**`location`**:`Path`=*`None`*)\n",
       "\n",
       "Stands up a data intake environment at the given location.\n",
       "\n",
       "Parameters\n",
       "----------\n",
       "location : Path, optional\n",
       "    Location to create the environment, defaults to current working directory.\n",
       "\n",
       "\n",
       "Example\n",
       "-------\n",
       ">>> create_environment(Path('/var/tmp'))"
      ],
      "text/plain": [
       "<IPython.core.display.Markdown object>"
      ]
     },
     "metadata": {},
     "output_type": "display_data"
    }
   ],
   "source": [
    "show_doc(create_environment)"
   ]
  },
  {
   "cell_type": "code",
   "execution_count": null,
   "id": "helpful-denmark",
   "metadata": {},
   "outputs": [
    {
     "data": {
      "text/markdown": [
       "<h4 id=\"create_config\" class=\"doc_header\"><code>create_config</code><a href=\"https://github.com/JorickvdHoeven/drt/tree/master/drt/create_environment.py#L87\" class=\"source_link\" style=\"float:right\">[source]</a></h4>\n",
       "\n",
       "> <code>create_config</code>(**`location`**:`Path`, **`db_path`**:`Path`, **`folders`**:`dict`)\n",
       "\n",
       "Create a new default configuration file with the paths set to the\n",
       "default paths.\n",
       "\n",
       "Parameters\n",
       "----------\n",
       "location : Path\n",
       "    Location of data intake project\n",
       "\n",
       "db_path : Path\n",
       "    Location of the data intake database\n",
       "\n",
       "folders : dict\n",
       "    Dictionary with the folder paths for 'delivery', 'raw', and 'datasets'"
      ],
      "text/plain": [
       "<IPython.core.display.Markdown object>"
      ]
     },
     "metadata": {},
     "output_type": "display_data"
    }
   ],
   "source": [
    "show_doc(create_config)"
   ]
  },
  {
   "cell_type": "code",
   "execution_count": null,
   "id": "hollywood-balloon",
   "metadata": {},
   "outputs": [
    {
     "data": {
      "text/markdown": [
       "<h4 id=\"create_folders\" class=\"doc_header\"><code>create_folders</code><a href=\"https://github.com/JorickvdHoeven/drt/tree/master/drt/create_environment.py#L53\" class=\"source_link\" style=\"float:right\">[source]</a></h4>\n",
       "\n",
       "> <code>create_folders</code>(**`location`**:`Path`=*`None`*)\n",
       "\n",
       "Create the folder structure to accept data. Also populate a\n",
       "helpful readme with instructions on how to use the data intake\n",
       "process.\n",
       "\n",
       "Parameters\n",
       "----------\n",
       "location : Path, optional\n",
       "    The location where to create the folder structure, by default current working directory"
      ],
      "text/plain": [
       "<IPython.core.display.Markdown object>"
      ]
     },
     "metadata": {},
     "output_type": "display_data"
    }
   ],
   "source": [
    "show_doc(create_folders)"
   ]
  },
  {
   "cell_type": "code",
   "execution_count": null,
   "id": "indie-filing",
   "metadata": {},
   "outputs": [],
   "source": [
    "# export\n",
    "def create_data_model( file_name:str = None, location:Path = None):\n",
    "    \"\"\"\n",
    "    Creates an SQLite database with the appropriate tables for use in \n",
    "    managing the data intake process.\n",
    "\n",
    "    This will not destroy a pre-existing database file.\n",
    "\n",
    "    Parameters\n",
    "    ----------\n",
    "    file_name : str, optional\n",
    "        Name of the database file defaults to 'intake_db'\n",
    "        \n",
    "    location : Path, optional\n",
    "        Location where to save the db file, by default current working directory\n",
    "    \"\"\"\n",
    "    if location is None:\n",
    "        location = Path.cwd()\n",
    "\n",
    "    if file_name is None or file_name == '':\n",
    "        file_name = 'intake_db'\n",
    "\n",
    "    (location / '.config').mkdir(parents=True, exist_ok=True)\n",
    "    db_path = location / '.config' / f'{file_name}.sqlite'\n",
    "    engine = db.create_engine(f'sqlite:///{db_path}', pool_pre_ping=True)\n",
    "\n",
    "    if Path.exists(db_path):\n",
    "        # db already exists return connection\n",
    "        # TODO test that the sqlite database has the right schema if not, raise error\n",
    "        with engine.connect() as conn:\n",
    "            session = db.orm.Session(bind=conn)\n",
    "            session.query(dm.Data_Group).all()\n",
    "\n",
    "        return db_path\n",
    "\n",
    "    dm.Base.metadata.create_all(engine)\n",
    "\n",
    "    return db_path"
   ]
  },
  {
   "cell_type": "code",
   "execution_count": null,
   "id": "organizational-intellectual",
   "metadata": {},
   "outputs": [],
   "source": [
    "# export \n",
    "def create_folders(location:Path=None):\n",
    "    \"\"\"\n",
    "    Create the folder structure to accept data. Also populate a \n",
    "    helpful readme with instructions on how to use the data intake\n",
    "    process.\n",
    "\n",
    "    Parameters\n",
    "    ----------\n",
    "    location : Path, optional\n",
    "        The location where to create the folder structure, by default current working directory\n",
    "    \"\"\"\n",
    "    if location is None:\n",
    "        location = Path.cwd()\n",
    "    elif not location.exists():\n",
    "        location.mkdir(parents=True)\n",
    "\n",
    "    delivery = '01_Delivery'\n",
    "    raw = '02_RAW'\n",
    "    dataset = '03_Datasets'\n",
    "\n",
    "    (location / delivery).mkdir(exist_ok=True)\n",
    "    (location / raw).mkdir(exist_ok=True)\n",
    "    (location / dataset).mkdir(exist_ok=True)\n",
    "\n",
    "    parent = Path(__file__).resolve().parent\n",
    "    shutil.copy(str(parent / 'templates' / 'data_intake_readme.md'), str(location / 'readme.md'))\n",
    "\n",
    "    return {\n",
    "        'delivery': (location / delivery),\n",
    "        'raw': (location / raw),\n",
    "        'datasets': (location / dataset),\n",
    "    }"
   ]
  },
  {
   "cell_type": "code",
   "execution_count": null,
   "id": "closing-solid",
   "metadata": {},
   "outputs": [],
   "source": [
    "# export\n",
    "def create_config(location:Path, db_path:Path, folders:dict) -> Path:\n",
    "    \"\"\"\n",
    "    Create a new default configuration file with the paths set to the \n",
    "    default paths.\n",
    "\n",
    "    Parameters\n",
    "    ----------\n",
    "    location : Path\n",
    "        Location of data intake project\n",
    "\n",
    "    db_path : Path\n",
    "        Location of the data intake database\n",
    "\n",
    "    folders : dict\n",
    "        Dictionary with the folder paths for 'delivery', 'raw', and 'datasets'\n",
    "    \"\"\"\n",
    "    if location is None:\n",
    "        location = Path.cwd()\n",
    "\n",
    "    cfg = configparser.ConfigParser()\n",
    "    d = dict()\n",
    "    d['root_data'] = location\n",
    "    d['delivery_folder'] = folders['delivery']\n",
    "    d['raw_data_folder'] = folders['raw']\n",
    "    d['datasets_folder'] = folders['datasets']\n",
    "    d['data_intake_db'] = db_path\n",
    "\n",
    "    \n",
    "    cfg['PATHS'] = d\n",
    "\n",
    "    d = dict()\n",
    "    d['force_recalculate'] = False\n",
    "    cfg['FLAGS'] = d\n",
    "\n",
    "    d = dict()\n",
    "    d['data_extensions'] = '\\n'.join([\"data\", \"parquet\", \"hdf5\"])\n",
    "    d['report_extensions'] = '\\n'.join(['report','md','html','pptx','docx'])\n",
    "    d['script_extensions'] = '\\n'.join(['script', 'ipynb', 'py', 'r', 'jl', 'sh'])\n",
    "    cfg['EXTENSIONS'] = d\n",
    "\n",
    "    if not (location / '.config' / 'config.ini').is_file():\n",
    "        with open((location / '.config' / 'config.ini'), mode='w') as f:\n",
    "            cfg.write(f)\n",
    "    else:\n",
    "        print('[!] config.ini already exists, using existing version')\n",
    "\n",
    "    return (location / '.config' / 'config.ini')"
   ]
  },
  {
   "cell_type": "code",
   "execution_count": null,
   "id": "aboriginal-carolina",
   "metadata": {},
   "outputs": [],
   "source": [
    "# export\n",
    "def create_environment(location:Path = None) -> Path:\n",
    "    \"\"\"\n",
    "    Stands up a data intake environment at the given location. \n",
    "\n",
    "    Parameters\n",
    "    ----------\n",
    "    location : Path, optional\n",
    "        Location to create the environment, defaults to current working directory.\n",
    "        \n",
    "\n",
    "    Example\n",
    "    -------\n",
    "    >>> create_environment(Path('/var/tmp'))\n",
    "    \"\"\"\n",
    "\n",
    "    if location is None:\n",
    "        location = Path.cwd()\n",
    "\n",
    "    (location / '.config').mkdir(parents=True, exist_ok=True)\n",
    "\n",
    "    db_path = create_data_model(location=location)\n",
    "    folders = create_folders(location=location)\n",
    "\n",
    "    return create_config(location, db_path, folders)"
   ]
  },
  {
   "cell_type": "code",
   "execution_count": null,
   "id": "chemical-ottawa",
   "metadata": {},
   "outputs": [],
   "source": [
    "#hide\n",
    "from nbdev.export import notebook2script; notebook2script()"
   ]
  }
 ],
 "metadata": {
  "kernelspec": {
   "display_name": "drt",
   "language": "python",
   "name": "drt"
  }
 },
 "nbformat": 4,
 "nbformat_minor": 5
}
