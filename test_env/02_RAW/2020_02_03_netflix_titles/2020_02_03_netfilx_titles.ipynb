{
 "cells": [
  {
   "cell_type": "code",
   "execution_count": null,
   "metadata": {},
   "outputs": [],
   "source": [
    "import pandas as pd\n",
    "from pathlib import Path\n",
    "from pandas_profiling import ProfileReport\n",
    "source = Path('../../01_Delivery/2020_01_11_dump/data/dump/02_data/data1/movie_titles.csv')"
   ]
  },
  {
   "cell_type": "code",
   "execution_count": null,
   "metadata": {},
   "outputs": [
    {
     "data": {
      "text/html": "<div>\n<style scoped>\n    .dataframe tbody tr th:only-of-type {\n        vertical-align: middle;\n    }\n\n    .dataframe tbody tr th {\n        vertical-align: top;\n    }\n\n    .dataframe thead th {\n        text-align: right;\n    }\n</style>\n<table border=\"1\" class=\"dataframe\">\n  <thead>\n    <tr style=\"text-align: right;\">\n      <th></th>\n      <th>id</th>\n      <th>year</th>\n      <th>title</th>\n    </tr>\n  </thead>\n  <tbody>\n    <tr>\n      <th>0</th>\n      <td>1</td>\n      <td>2003</td>\n      <td>Dinosaur Planet</td>\n    </tr>\n    <tr>\n      <th>1</th>\n      <td>2</td>\n      <td>2004</td>\n      <td>Isle of Man TT 2004 Review</td>\n    </tr>\n    <tr>\n      <th>2</th>\n      <td>3</td>\n      <td>1997</td>\n      <td>Character</td>\n    </tr>\n    <tr>\n      <th>3</th>\n      <td>4</td>\n      <td>1994</td>\n      <td>Paula Abdul's Get Up &amp; Dance</td>\n    </tr>\n    <tr>\n      <th>4</th>\n      <td>5</td>\n      <td>2004</td>\n      <td>The Rise and Fall of ECW</td>\n    </tr>\n    <tr>\n      <th>...</th>\n      <td>...</td>\n      <td>...</td>\n      <td>...</td>\n    </tr>\n    <tr>\n      <th>17765</th>\n      <td>17766</td>\n      <td>2002</td>\n      <td>Where the Wild Things Are and Other Maurice Se...</td>\n    </tr>\n    <tr>\n      <th>17766</th>\n      <td>17767</td>\n      <td>2004</td>\n      <td>Fidel Castro: American Experience</td>\n    </tr>\n    <tr>\n      <th>17767</th>\n      <td>17768</td>\n      <td>2000</td>\n      <td>Epoch</td>\n    </tr>\n    <tr>\n      <th>17768</th>\n      <td>17769</td>\n      <td>2003</td>\n      <td>The Company</td>\n    </tr>\n    <tr>\n      <th>17769</th>\n      <td>17770</td>\n      <td>2003</td>\n      <td>Alien Hunter</td>\n    </tr>\n  </tbody>\n</table>\n<p>17770 rows × 3 columns</p>\n</div>",
      "text/plain": [
       "          id  year                                              title\n",
       "0          1  2003                                    Dinosaur Planet\n",
       "1          2  2004                         Isle of Man TT 2004 Review\n",
       "2          3  1997                                          Character\n",
       "3          4  1994                       Paula Abdul's Get Up & Dance\n",
       "4          5  2004                           The Rise and Fall of ECW\n",
       "...      ...   ...                                                ...\n",
       "17765  17766  2002  Where the Wild Things Are and Other Maurice Se...\n",
       "17766  17767  2004                  Fidel Castro: American Experience\n",
       "17767  17768  2000                                              Epoch\n",
       "17768  17769  2003                                        The Company\n",
       "17769  17770  2003                                       Alien Hunter\n",
       "\n",
       "[17770 rows x 3 columns]"
      ]
     },
     "execution_count": null,
     "metadata": {},
     "output_type": "execute_result"
    }
   ],
   "source": [
    "dat = {'id':[], 'year':[], 'title':[]}\n",
    "with open(source, 'rt', encoding = \"ISO-8859-1\") as fil:\n",
    "    for line in fil.readlines():\n",
    "        lin = line.split(',',2)\n",
    "        dat['id'].append(lin[0])\n",
    "        dat['year'].append(lin[1])\n",
    "        dat['title'].append(lin[2][:-1])\n",
    "\n",
    "df = pd.DataFrame(dat).convert_dtypes()"
   ]
  },
  {
   "cell_type": "code",
   "execution_count": null,
   "metadata": {},
   "outputs": [
    {
     "name": "stderr",
     "output_type": "stream",
     "text": [
      "Summarize dataset: 100%|██████████| 17/17 [00:00<00:00, 21.42it/s, Completed]\n",
      "Generate report structure: 100%|██████████| 1/1 [00:01<00:00,  1.09s/it]\n",
      "Render HTML: 100%|██████████| 1/1 [00:00<00:00,  5.59it/s]\n",
      "Export report to file: 100%|██████████| 1/1 [00:00<00:00, 518.46it/s]\n"
     ]
    }
   ],
   "source": [
    "ProfileReport(df).to_file('2020_02_03_netflix_titles.html')"
   ]
  },
  {
   "cell_type": "code",
   "execution_count": null,
   "metadata": {},
   "outputs": [],
   "source": [
    "df.to_parquet('2020_02_03_netflix_titles.parquet')"
   ]
  },
  {
   "cell_type": "code",
   "execution_count": null,
   "metadata": {},
   "outputs": [],
   "source": []
  }
 ],
 "metadata": {
  "kernelspec": {
   "display_name": "Python 3.7.9 64-bit ('data_analysis': conda)",
   "metadata": {
    "interpreter": {
     "hash": "e347088851c16ba49aad270d7143ef1b85c120cf9f92bc3fbaa811003f56311c"
    }
   },
   "name": "python3"
  }
 },
 "nbformat": 4,
 "nbformat_minor": 2
}
