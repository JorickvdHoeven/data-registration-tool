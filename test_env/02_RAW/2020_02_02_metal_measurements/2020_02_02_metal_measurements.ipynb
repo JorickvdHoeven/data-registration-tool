{
 "cells": [
  {
   "cell_type": "code",
   "execution_count": null,
   "metadata": {},
   "outputs": [],
   "source": [
    "import pandas as pd \n",
    "from pathlib import Path\n",
    "from pandas_profiling import ProfileReport\n",
    "import openpyxl\n",
    "source = Path('../../01_Delivery/2020_01_10_measurements_excel/data/Dataset for Figures in Published Article.xlsx')\n",
    "\n",
    "sheet ='Data for Table 1'"
   ]
  },
  {
   "cell_type": "code",
   "execution_count": null,
   "metadata": {},
   "outputs": [],
   "source": [
    "df = (pd.read_excel(source, sheet_name=sheet, skiprows=1).convert_dtypes())"
   ]
  },
  {
   "cell_type": "code",
   "execution_count": null,
   "metadata": {},
   "outputs": [
    {
     "name": "stderr",
     "output_type": "stream",
     "text": [
      "Summarize dataset: 100%|██████████| 21/21 [00:06<00:00,  3.30it/s, Completed]\n",
      "Generate report structure: 100%|██████████| 1/1 [00:02<00:00,  2.11s/it]\n",
      "Render HTML: 100%|██████████| 1/1 [00:00<00:00,  2.27it/s]\n",
      "Export report to file: 100%|██████████| 1/1 [00:00<00:00, 347.96it/s]\n"
     ]
    }
   ],
   "source": [
    "ProfileReport(df).to_file('2020_02_02_metal_measurements.html')"
   ]
  },
  {
   "cell_type": "code",
   "execution_count": null,
   "metadata": {},
   "outputs": [],
   "source": [
    "df.to_parquet('2020_02_02_metal_measurements.parquet')"
   ]
  },
  {
   "cell_type": "code",
   "execution_count": null,
   "metadata": {},
   "outputs": [],
   "source": []
  }
 ],
 "metadata": {
  "kernelspec": {
   "display_name": "Python 3.7.9 64-bit ('data_analysis': conda)",
   "metadata": {
    "interpreter": {
     "hash": "e347088851c16ba49aad270d7143ef1b85c120cf9f92bc3fbaa811003f56311c"
    }
   },
   "name": "python3"
  }
 },
 "nbformat": 4,
 "nbformat_minor": 2
}
