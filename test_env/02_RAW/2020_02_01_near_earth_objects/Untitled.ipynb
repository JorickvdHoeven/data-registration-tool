{
 "cells": [
  {
   "cell_type": "code",
   "execution_count": null,
   "metadata": {},
   "outputs": [],
   "source": [
    "from pathlib import Path\n",
    "import pandas as pd\n",
    "import json\n",
    "from pandas_profiling import ProfileReport"
   ]
  },
  {
   "cell_type": "code",
   "execution_count": null,
   "metadata": {},
   "outputs": [],
   "source": [
    "source = Path('../../01_Delivery/2020_01_09_near_earth_json/data/near_earth_objects.ndjson')\n",
    "\n",
    "with open(source, 'rt') as dat:\n",
    "    data = json.loads(dat.read())\n",
    "df = pd.DataFrame(data)\n",
    "df['discovery_date'] = pd.to_datetime(df['discovery_date'])\n",
    "df = df.replace('<NA>',pd.NA)\n",
    "for col in ['h_mag', 'moid_au', 'q_au_1', 'q_au_2',\n",
    "       'period_yr', 'i_deg']:\n",
    "       df[col] = df[col].astype('float')\n",
    "df = df.convert_dtypes()\n"
   ]
  },
  {
   "cell_type": "code",
   "execution_count": null,
   "metadata": {},
   "outputs": [
    {
     "name": "stderr",
     "output_type": "stream",
     "text": [
      "Summarize dataset: 100%|██████████| 24/24 [00:07<00:00,  3.31it/s, Completed]\n",
      "Generate report structure: 100%|██████████| 1/1 [00:03<00:00,  3.73s/it]\n",
      "Render HTML: 100%|██████████| 1/1 [00:00<00:00,  1.15it/s]\n",
      "Export report to file: 100%|██████████| 1/1 [00:00<00:00, 267.66it/s]\n"
     ]
    }
   ],
   "source": [
    "ProfileReport(df).to_file('2020_02_01_near_earth_asteroids.html')"
   ]
  },
  {
   "cell_type": "code",
   "execution_count": null,
   "metadata": {},
   "outputs": [],
   "source": [
    "df.to_parquet('2020_01_01_near_earth_asteroids.parquet')"
   ]
  },
  {
   "cell_type": "code",
   "execution_count": null,
   "metadata": {},
   "outputs": [],
   "source": []
  }
 ],
 "metadata": {
  "kernelspec": {
   "display_name": "Python 3.7.9 64-bit ('data_analysis': conda)",
   "metadata": {
    "interpreter": {
     "hash": "e347088851c16ba49aad270d7143ef1b85c120cf9f92bc3fbaa811003f56311c"
    }
   },
   "name": "python3"
  }
 },
 "nbformat": 4,
 "nbformat_minor": 2
}
